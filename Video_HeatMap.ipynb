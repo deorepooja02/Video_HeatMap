{
 "cells": [
  {
   "cell_type": "code",
   "execution_count": null,
   "id": "550052de",
   "metadata": {},
   "outputs": [],
   "source": [
    "# for video\n",
    "\n",
    "import cv2\n",
    "import numpy as np\n",
    "\n",
    "def process(img):\n",
    "    img_gray = cv2.cvtColor(img, cv2.COLOR_BGR2GRAY)\n",
    "    img_blur = cv2.GaussianBlur(img_gray, (5, 5), 25)\n",
    "    img_canny = cv2.Canny(img_blur, 5, 50)\n",
    "    kernel = np.ones((3, 3))\n",
    "    img_dilate = cv2.dilate(img_canny, kernel, iterations=4)\n",
    "    img_erode = cv2.erode(img_dilate, kernel, iterations=1)\n",
    "    return img_erode\n",
    "\n",
    "def get_contours(img, img_original):\n",
    "    img_contours = img_original.copy()\n",
    "    contours, hierarchies = cv2.findContours(img, cv2.RETR_TREE, cv2.CHAIN_APPROX_NONE)\n",
    "\n",
    "    cv2.drawContours(img_contours, contours, -1, (0, 255, 0), -1) \n",
    "    # If you want to omit smaller contours, loop through the detected contours, and only draw them on the image if they are at least a specific area. Don't forget to remove the line above if you choose the below block of code.\n",
    "    # for cnt in contours: \n",
    "    #     if cv2.contourArea(cnt) > 500:\n",
    "    #         cv2.drawContours(img_contours, [cnt], -1, (0, 255, 0), -1) \n",
    "\n",
    "    return img_contours\n",
    "\n",
    "cap = cv2.VideoCapture(\"Sample.mp4\")\n",
    "\n",
    "success, img1 = cap.read()\n",
    "success, img2 = cap.read()\n",
    "heat_map = np.zeros(img1.shape[:-1])\n",
    "\n",
    "while success:\n",
    "    diff = cv2.absdiff(img1, img2)\n",
    "    img_contours = get_contours(process(diff), img1)\n",
    "\n",
    "    heat_map[np.all(img_contours == [0, 255, 0], 2)] += 3 # The 3 can be tweaked depending on how fast you want the colors to respond\n",
    "    heat_map[np.any(img_contours != [0, 255, 0], 2)] -= 3\n",
    "    heat_map[heat_map < 0] = 0\n",
    "    heat_map[heat_map > 255] = 255\n",
    "\n",
    "    img_mapped = cv2.applyColorMap(heat_map.astype('uint8'), cv2.COLORMAP_JET)\n",
    "\n",
    "#    img1[heat_map > 160] = img_mapped[heat_map > 160] Use this line to draw the heat map on the original video at a specific temperature range. For this it's where ever the temperature is above 160 (min is 0 and max is 255)\n",
    "\n",
    "    cv2.imshow(\"Original\", img1)\n",
    "    cv2.imshow(\"Heat Map\", img_mapped)\n",
    "    \n",
    "    img1 = img2\n",
    "    success, img2 = cap.read()\n",
    "    \n",
    "    if cv2.waitKey(1) == ord('q'):\n",
    "        break\n",
    "\n"
   ]
  }
 ],
 "metadata": {
  "kernelspec": {
   "display_name": "Python 3 (ipykernel)",
   "language": "python",
   "name": "python3"
  },
  "language_info": {
   "codemirror_mode": {
    "name": "ipython",
    "version": 3
   },
   "file_extension": ".py",
   "mimetype": "text/x-python",
   "name": "python",
   "nbconvert_exporter": "python",
   "pygments_lexer": "ipython3",
   "version": "3.9.13"
  }
 },
 "nbformat": 4,
 "nbformat_minor": 5
}
